{
 "cells": [
  {
   "cell_type": "markdown",
   "id": "a153699b-9ee8-46c6-b8c8-3c0f7cf3f092",
   "metadata": {},
   "source": [
    "#### Instructions:  \n",
    "1. Libraries allowed: **Python basic libraries, numpy, pandas, scikit-learn (only for data processing), pytorch, and ClearML.**\n",
    "2. Show all outputs.\n",
    "3. Submit jupyter notebook and a pdf export of the notebook. Check canvas for detail instructions for the report. \n",
    "4. Below are the questions/steps that you need to answer. Add as many cells as needed. "
   ]
  },
  {
   "cell_type": "markdown",
   "id": "89bbf8fe-c35d-443d-b10c-4df01f3d99f4",
   "metadata": {},
   "source": [
    "## Step 1: Data Processing\n",
    "1. Partition your dataset into training and test if they are not already. You can do it manually by creating separate folders for training and test.\n",
    "2. Estimate mean and variance from the training data for normalization.\n",
    "3. Create \"transforms\" for training and test for normalization and data augmentation. \n",
    "4. Create custom dataset or instantiate built-in \"ImageFolder\" with the transforms for both training and test.\n",
    "5. Partition the training dataset further into training and validation\n",
    "6. Use dataloder to partition and generate minibatches.\n",
    "7. Visualize input and output for two sample images."
   ]
  },
  {
   "cell_type": "code",
   "execution_count": null,
   "id": "a8973376-2893-4916-a0ef-f806d8a1070c",
   "metadata": {},
   "outputs": [],
   "source": [
    "# code"
   ]
  },
  {
   "cell_type": "markdown",
   "id": "41a11286-01d8-467e-9b39-7c8c95ae90b4",
   "metadata": {},
   "source": [
    "## Step 2: initial network\n",
    "1. Create a convolutional neural network. Make the hyper-parameters that you want to tune (e.g., number of layers) dynamic so that you can change them without altering the code. You can choose additional hyperparameters but the followings must be considered.\n",
    "   1. Number of filters\n",
    "   2. Number of layers\n",
    "   3. learning rate\n",
    "   4. Optimization algorithm specific hyper-paramters, e.g., momentum, for SGD.\n",
    "   5. weight decay. \n",
    "3. Select two images. Pick a configuation of NN and hyperparamters and train to overfit the samples, i.e., the accuracy will be 100%. If the network does not overfit, try differnt hyperparamter configuration, e.g., number of paramters, learning rate."
   ]
  },
  {
   "cell_type": "code",
   "execution_count": null,
   "id": "3d6b55c7-e799-4743-89de-7e391a207e68",
   "metadata": {},
   "outputs": [],
   "source": [
    "# code"
   ]
  },
  {
   "cell_type": "markdown",
   "id": "e82674d8-2171-489e-b170-09fa02649b37",
   "metadata": {},
   "source": [
    "## Step 3: ClearML base task\n",
    "Now train your network with ClearML by creating a task and connecting the parameters to the task. Copy the plots from ClearML and upload them here."
   ]
  },
  {
   "cell_type": "code",
   "execution_count": null,
   "id": "7aa6af7b-e619-4735-8c6b-dba6670ae3bc",
   "metadata": {},
   "outputs": [],
   "source": [
    "# code"
   ]
  },
  {
   "cell_type": "code",
   "execution_count": null,
   "id": "f433cff1-66e6-4060-b5ee-2942c0a08de1",
   "metadata": {},
   "outputs": [],
   "source": []
  }
 ],
 "metadata": {
  "kernelspec": {
   "display_name": "Python 3 (ipykernel)",
   "language": "python",
   "name": "python3"
  },
  "language_info": {
   "codemirror_mode": {
    "name": "ipython",
    "version": 3
   },
   "file_extension": ".py",
   "mimetype": "text/x-python",
   "name": "python",
   "nbconvert_exporter": "python",
   "pygments_lexer": "ipython3",
   "version": "3.12.7"
  }
 },
 "nbformat": 4,
 "nbformat_minor": 5
}
