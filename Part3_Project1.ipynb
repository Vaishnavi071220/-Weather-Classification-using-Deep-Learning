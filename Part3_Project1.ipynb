{
 "cells": [
  {
   "cell_type": "markdown",
   "id": "a153699b-9ee8-46c6-b8c8-3c0f7cf3f092",
   "metadata": {},
   "source": [
    "#### Instructions:  \n",
    "1. Libraries allowed: **Python basic libraries, numpy, pandas, scikit-learn (only for data processing), pytorch, and ClearML.**\n",
    "2. Show all outputs.\n",
    "3. Submit jupyter notebook and a pdf export of the notebook. Check canvas for detail instructions for the report. \n",
    "4. Below are the questions/steps that you need to answer. Add as many cells as needed. "
   ]
  },
  {
   "cell_type": "markdown",
   "id": "4ee51aae-3b7b-445a-a017-cb81f62a6960",
   "metadata": {},
   "source": [
    "## Task 2: Finetuning a pretrained NN\n",
    "Do transfer learning with ResNet18 and compare peforamnce with the hyperparamter-tuned network."
   ]
  },
  {
   "cell_type": "code",
   "execution_count": null,
   "id": "8c116f9c-2add-442e-ab24-c67120d9bb8d",
   "metadata": {},
   "outputs": [],
   "source": [
    "# Code"
   ]
  },
  {
   "cell_type": "markdown",
   "id": "d0fe860a-1216-41c7-936c-681f1bceb516",
   "metadata": {},
   "source": [
    "### Discussion\n",
    "Provide a comparative analysis."
   ]
  },
  {
   "cell_type": "code",
   "execution_count": null,
   "id": "f433cff1-66e6-4060-b5ee-2942c0a08de1",
   "metadata": {},
   "outputs": [],
   "source": []
  }
 ],
 "metadata": {
  "kernelspec": {
   "display_name": "Python 3 (ipykernel)",
   "language": "python",
   "name": "python3"
  },
  "language_info": {
   "codemirror_mode": {
    "name": "ipython",
    "version": 3
   },
   "file_extension": ".py",
   "mimetype": "text/x-python",
   "name": "python",
   "nbconvert_exporter": "python",
   "pygments_lexer": "ipython3",
   "version": "3.12.7"
  }
 },
 "nbformat": 4,
 "nbformat_minor": 5
}
