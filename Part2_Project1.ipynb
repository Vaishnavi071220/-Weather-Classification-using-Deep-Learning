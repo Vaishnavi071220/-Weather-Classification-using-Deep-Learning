{
 "cells": [
  {
   "cell_type": "markdown",
   "id": "a153699b-9ee8-46c6-b8c8-3c0f7cf3f092",
   "metadata": {},
   "source": [
    "#### Instructions:  \n",
    "1. Libraries allowed: **Python basic libraries, numpy, pandas, scikit-learn (only for data processing), pytorch, and ClearML.**\n",
    "2. Show all outputs.\n",
    "3. Submit jupyter notebook and a pdf export of the notebook. Check canvas for detail instructions for the report. \n",
    "4. Below are the questions/steps that you need to answer. Add as many cells as needed. "
   ]
  },
  {
   "cell_type": "markdown",
   "id": "50bb379a-fa53-49b6-8e63-1e9c6e005011",
   "metadata": {},
   "source": [
    "## Step 4: hyperparameter tuning without learning rate decay\n",
    "Do hyperparater tuning with ClearML and copy the plots (e.g., parallel coordinates) from ClearML and visualize them here."
   ]
  },
  {
   "cell_type": "code",
   "execution_count": null,
   "id": "b1112e95-5b67-4ced-bd3e-a847d23f3eb3",
   "metadata": {},
   "outputs": [],
   "source": [
    "# code"
   ]
  },
  {
   "cell_type": "markdown",
   "id": "d90713db-1714-42d9-b9f1-6ae79ef13fcb",
   "metadata": {},
   "source": [
    "## Step 5: hyperparameter tuning with learning rate decay\n",
    "Do hyperparater tuning with ClearML and copy the plots (e.g., parallel coordinates) from ClearML and visualize them here."
   ]
  },
  {
   "cell_type": "code",
   "execution_count": null,
   "id": "228c7f89-445b-463f-aecf-2ee1ab9ef34d",
   "metadata": {},
   "outputs": [],
   "source": [
    "# code"
   ]
  },
  {
   "cell_type": "markdown",
   "id": "f166213c-84de-43ca-8630-b501ea97fa41",
   "metadata": {},
   "source": [
    "## Step 6: Evaluation\n",
    "Evaluate the best model on test dataset and report accuracy, precision, recall, and F1 score."
   ]
  },
  {
   "cell_type": "code",
   "execution_count": null,
   "id": "e284ec5a-8b21-4762-a4e2-5aaba1aef513",
   "metadata": {},
   "outputs": [],
   "source": []
  },
  {
   "cell_type": "markdown",
   "id": "d083c618-85f3-4241-86bd-eaa12999c19c",
   "metadata": {},
   "source": [
    "## Step 7: Analysis\n",
    "Provide a complete analysis of the whole process. "
   ]
  },
  {
   "cell_type": "markdown",
   "id": "e37e4c87-92ed-47b6-bb37-d69af4fd98e4",
   "metadata": {},
   "source": [
    "Answer: "
   ]
  },
  {
   "cell_type": "code",
   "execution_count": null,
   "id": "f433cff1-66e6-4060-b5ee-2942c0a08de1",
   "metadata": {},
   "outputs": [],
   "source": []
  }
 ],
 "metadata": {
  "kernelspec": {
   "display_name": "Python 3 (ipykernel)",
   "language": "python",
   "name": "python3"
  },
  "language_info": {
   "codemirror_mode": {
    "name": "ipython",
    "version": 3
   },
   "file_extension": ".py",
   "mimetype": "text/x-python",
   "name": "python",
   "nbconvert_exporter": "python",
   "pygments_lexer": "ipython3",
   "version": "3.12.7"
  }
 },
 "nbformat": 4,
 "nbformat_minor": 5
}
